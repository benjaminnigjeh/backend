{
 "cells": [
  {
   "cell_type": "code",
   "execution_count": 5,
   "metadata": {},
   "outputs": [],
   "source": [
    "import wget\n",
    "url1 = \"https://ftp.pride.ebi.ac.uk/pride/data/archive/2017/02/PXD004732/01625b_GA1-TUM_first_pool_1_01_01-DDA-1h-R2.raw\"\n",
    "url2 = \"https://ftp.pride.ebi.ac.uk/pride/data/archive/2017/02/PXD004732/TUM_first_pool_1_01_01_DDA-1h-R2-tryptic.zip\""
   ]
  },
  {
   "cell_type": "code",
   "execution_count": 6,
   "metadata": {},
   "outputs": [
    {
     "data": {
      "text/plain": [
       "'TUM_first_pool_1_01_01_DDA-1h-R2-tryptic.zip'"
      ]
     },
     "execution_count": 6,
     "metadata": {},
     "output_type": "execute_result"
    }
   ],
   "source": [
    "wget.download(url1)\n",
    "wget.download(url2)"
   ]
  },
  {
   "cell_type": "code",
   "execution_count": 7,
   "metadata": {},
   "outputs": [],
   "source": [
    "from zipfile import ZipFile\n",
    "import pandas as pd\n",
    "with ZipFile(f'TUM_first_pool_1_01_01_DDA-1h-R2-tryptic.zip', 'r') as zip_file:\n",
    "  msms = pd.read_csv(zip_file.open('msms.txt'), sep='\\t')\n",
    "# Current PROSIT pipeline does not accomodate modified peptides, so we remove all of the oxidized peptides\n",
    "msms = msms[msms['Modifications'] == 'Unmodified']"
   ]
  },
  {
   "cell_type": "code",
   "execution_count": 8,
   "metadata": {},
   "outputs": [
    {
     "ename": "TypeError",
     "evalue": "No method matches given arguments for IRawData.SelectInstrument: (<class 'int'>, <class 'int'>)",
     "output_type": "error",
     "traceback": [
      "\u001b[1;31m---------------------------------------------------------------------------\u001b[0m",
      "\u001b[1;31mPythonException\u001b[0m                           Traceback (most recent call last)",
      "\u001b[1;31mPythonException\u001b[0m: since Python.NET 3.0 int can not be converted to Enum implicitly. Use Enum(int_value)",
      "\nThe above exception was the direct cause of the following exception:\n",
      "\u001b[1;31mArgumentException\u001b[0m                         Traceback (most recent call last)",
      "\u001b[1;31mArgumentException\u001b[0m: since Python.NET 3.0 int can not be converted to Enum implicitly. Use Enum(int_value) in method Void SelectInstrument(ThermoFisher.CommonCore.Data.Business.Device, Int32) ---> Python.Runtime.PythonException: since Python.NET 3.0 int can not be converted to Enum implicitly. Use Enum(int_value)\r\n   --- End of inner exception stack trace ---",
      "\nThe above exception was the direct cause of the following exception:\n",
      "\u001b[1;31mAggregateException\u001b[0m                        Traceback (most recent call last)",
      "\u001b[1;31mAggregateException\u001b[0m: One or more errors occurred. ---> System.ArgumentException: since Python.NET 3.0 int can not be converted to Enum implicitly. Use Enum(int_value) in method Void SelectInstrument(ThermoFisher.CommonCore.Data.Business.Device, Int32) ---> Python.Runtime.PythonException: since Python.NET 3.0 int can not be converted to Enum implicitly. Use Enum(int_value)\r\n   --- End of inner exception stack trace ---\r\n   --- End of inner exception stack trace ---\r\n---> (Inner Exception #0) System.ArgumentException: since Python.NET 3.0 int can not be converted to Enum implicitly. Use Enum(int_value) in method Void SelectInstrument(ThermoFisher.CommonCore.Data.Business.Device, Int32) ---> Python.Runtime.PythonException: since Python.NET 3.0 int can not be converted to Enum implicitly. Use Enum(int_value)\r\n   --- End of inner exception stack trace ---<---\r\n",
      "\nThe above exception was the direct cause of the following exception:\n",
      "\u001b[1;31mTypeError\u001b[0m                                 Traceback (most recent call last)",
      "Cell \u001b[1;32mIn[8], line 2\u001b[0m\n\u001b[0;32m      1\u001b[0m \u001b[38;5;28;01mfrom\u001b[39;00m \u001b[38;5;21;01mfisher_py\u001b[39;00m \u001b[38;5;28;01mimport\u001b[39;00m RawFile\n\u001b[1;32m----> 2\u001b[0m raw \u001b[38;5;241m=\u001b[39m \u001b[43mRawFile\u001b[49m\u001b[43m(\u001b[49m\u001b[38;5;124;43m'\u001b[39;49m\u001b[38;5;124;43m01625b_GA1-TUM_first_pool_1_01_01-DDA-1h-R2.raw\u001b[39;49m\u001b[38;5;124;43m'\u001b[39;49m\u001b[43m)\u001b[49m\n\u001b[0;32m      3\u001b[0m \u001b[38;5;66;03m# Get the scan numbers from the msms file and save the scan + info in a dictionary\u001b[39;00m\n\u001b[0;32m      4\u001b[0m \u001b[38;5;28;01mfrom\u001b[39;00m \u001b[38;5;21;01mfisher_py\u001b[39;00m\u001b[38;5;21;01m.\u001b[39;00m\u001b[38;5;21;01mdata\u001b[39;00m\u001b[38;5;21;01m.\u001b[39;00m\u001b[38;5;21;01mbusiness\u001b[39;00m \u001b[38;5;28;01mimport\u001b[39;00m Scan\n",
      "File \u001b[1;32mc:\\Users\\benja\\miniconda3\\envs\\backend2\\lib\\site-packages\\fisher_py\\raw_file.py:61\u001b[0m, in \u001b[0;36mRawFile.__init__\u001b[1;34m(self, path)\u001b[0m\n\u001b[0;32m     59\u001b[0m \u001b[38;5;28mself\u001b[39m\u001b[38;5;241m.\u001b[39m_path \u001b[38;5;241m=\u001b[39m path\n\u001b[0;32m     60\u001b[0m \u001b[38;5;28mself\u001b[39m\u001b[38;5;241m.\u001b[39m_raw_file_access \u001b[38;5;241m=\u001b[39m RawFileReaderAdapter\u001b[38;5;241m.\u001b[39mfile_factory(path)\n\u001b[1;32m---> 61\u001b[0m \u001b[38;5;28;43mself\u001b[39;49m\u001b[38;5;241;43m.\u001b[39;49m\u001b[43m_raw_file_access\u001b[49m\u001b[38;5;241;43m.\u001b[39;49m\u001b[43mselect_instrument\u001b[49m\u001b[43m(\u001b[49m\u001b[43mDevice\u001b[49m\u001b[38;5;241;43m.\u001b[39;49m\u001b[43mMS\u001b[49m\u001b[43m,\u001b[49m\u001b[43m \u001b[49m\u001b[38;5;241;43m1\u001b[39;49m\u001b[43m)\u001b[49m\n\u001b[0;32m     63\u001b[0m \u001b[38;5;66;03m# fetch retention times and scan numbers\u001b[39;00m\n\u001b[0;32m     64\u001b[0m scan_numbers, rt \u001b[38;5;241m=\u001b[39m \u001b[38;5;28mself\u001b[39m\u001b[38;5;241m.\u001b[39m_get_scan_numbers_and_retention_times_()\n",
      "File \u001b[1;32mc:\\Users\\benja\\miniconda3\\envs\\backend2\\lib\\site-packages\\fisher_py\\raw_file_reader\\raw_file_access.py:811\u001b[0m, in \u001b[0;36mRawFileAccess.select_instrument\u001b[1;34m(self, instrument_type, instrument_index)\u001b[0m\n\u001b[0;32m    809\u001b[0m \u001b[38;5;28;01massert\u001b[39;00m \u001b[38;5;28mtype\u001b[39m(instrument_type) \u001b[38;5;129;01mis\u001b[39;00m Device\n\u001b[0;32m    810\u001b[0m \u001b[38;5;28;01massert\u001b[39;00m \u001b[38;5;28mtype\u001b[39m(instrument_index) \u001b[38;5;129;01mis\u001b[39;00m \u001b[38;5;28mint\u001b[39m\n\u001b[1;32m--> 811\u001b[0m \u001b[38;5;28;43mself\u001b[39;49m\u001b[38;5;241;43m.\u001b[39;49m\u001b[43m_get_wrapped_object_\u001b[49m\u001b[43m(\u001b[49m\u001b[43m)\u001b[49m\u001b[38;5;241;43m.\u001b[39;49m\u001b[43mSelectInstrument\u001b[49m\u001b[43m(\u001b[49m\u001b[43minstrument_type\u001b[49m\u001b[38;5;241;43m.\u001b[39;49m\u001b[43mvalue\u001b[49m\u001b[43m,\u001b[49m\u001b[43m \u001b[49m\u001b[43minstrument_index\u001b[49m\u001b[43m)\u001b[49m\n",
      "\u001b[1;31mTypeError\u001b[0m: No method matches given arguments for IRawData.SelectInstrument: (<class 'int'>, <class 'int'>)"
     ]
    }
   ],
   "source": [
    "from fisher_py import RawFile\n",
    "raw = RawFile('01625b_GA1-TUM_first_pool_1_01_01-DDA-1h-R2.raw')\n",
    "# Get the scan numbers from the msms file and save the scan + info in a dictionary\n",
    "from fisher_py.data.business import Scan\n",
    "import numpy as np\n",
    "scan_mzs = []\n",
    "scan_ints = []\n",
    "scan_mass_analyzers = []\n",
    "scan_collison_energy = []\n",
    "for scan in msms['Scan number']:\n",
    "  raw_scan = Scan.from_file(raw._raw_file_access, scan)\n",
    "  scan_mzs.append(np.array(raw_scan.preferred_masses))\n",
    "  scan_ints.append(np.array(raw_scan.preferred_intensities))\n",
    "  scan_mass_analyzers.append(raw_scan.scan_type.split(' + ')[0])\n",
    "  frag_infos = [f.split(' ')[0] for f in raw_scan.scan_type.split('@')[1:]]\n",
    "  splits = [[i for i, g in enumerate(f) if g.isnumeric()][0] for f in frag_infos]\n",
    "  NCEs = [float(frag[split:]) for split, frag in zip(splits, frag_infos)]\n",
    "  scan_collison_energy.append(NCEs[0])"
   ]
  },
  {
   "cell_type": "code",
   "execution_count": 9,
   "metadata": {},
   "outputs": [
    {
     "ename": "NameError",
     "evalue": "name 'scan_mzs' is not defined",
     "output_type": "error",
     "traceback": [
      "\u001b[1;31m---------------------------------------------------------------------------\u001b[0m",
      "\u001b[1;31mNameError\u001b[0m                                 Traceback (most recent call last)",
      "Cell \u001b[1;32mIn[9], line 2\u001b[0m\n\u001b[0;32m      1\u001b[0m annotation_df \u001b[38;5;241m=\u001b[39m pd\u001b[38;5;241m.\u001b[39mDataFrame(msms[[\u001b[38;5;124m'\u001b[39m\u001b[38;5;124mModified sequence\u001b[39m\u001b[38;5;124m'\u001b[39m, \u001b[38;5;124m'\u001b[39m\u001b[38;5;124mCharge\u001b[39m\u001b[38;5;124m'\u001b[39m, \u001b[38;5;124m'\u001b[39m\u001b[38;5;124mScan number\u001b[39m\u001b[38;5;124m'\u001b[39m]]\u001b[38;5;241m.\u001b[39mvalues, columns\u001b[38;5;241m=\u001b[39m[\u001b[38;5;124m'\u001b[39m\u001b[38;5;124mMODIFIED_SEQUENCE\u001b[39m\u001b[38;5;124m'\u001b[39m, \u001b[38;5;124m'\u001b[39m\u001b[38;5;124mPRECURSOR_CHARGE\u001b[39m\u001b[38;5;124m'\u001b[39m, \u001b[38;5;124m'\u001b[39m\u001b[38;5;124mSCAN_NUMBER\u001b[39m\u001b[38;5;124m'\u001b[39m])\n\u001b[1;32m----> 2\u001b[0m annotation_df[\u001b[38;5;124m'\u001b[39m\u001b[38;5;124mMZ\u001b[39m\u001b[38;5;124m'\u001b[39m] \u001b[38;5;241m=\u001b[39m \u001b[43mscan_mzs\u001b[49m\n\u001b[0;32m      3\u001b[0m annotation_df[\u001b[38;5;124m'\u001b[39m\u001b[38;5;124mINTENSITIES\u001b[39m\u001b[38;5;124m'\u001b[39m] \u001b[38;5;241m=\u001b[39m scan_ints\n\u001b[0;32m      4\u001b[0m annotation_df[\u001b[38;5;124m'\u001b[39m\u001b[38;5;124mMASS_ANALYZER\u001b[39m\u001b[38;5;124m'\u001b[39m] \u001b[38;5;241m=\u001b[39m scan_mass_analyzers\n",
      "\u001b[1;31mNameError\u001b[0m: name 'scan_mzs' is not defined"
     ]
    }
   ],
   "source": [
    "annotation_df = pd.DataFrame(msms[['Modified sequence', 'Charge', 'Scan number']].values, columns=['MODIFIED_SEQUENCE', 'PRECURSOR_CHARGE', 'SCAN_NUMBER'])\n",
    "annotation_df['MZ'] = scan_mzs\n",
    "annotation_df['INTENSITIES'] = scan_ints\n",
    "annotation_df['MASS_ANALYZER'] = scan_mass_analyzers\n",
    "annotation_df['COLLISION_ENERGY'] = scan_collison_energy\n",
    "\n",
    "from spectrum_fundamentals.mod_string import maxquant_to_internal\n",
    "annotation_df['MODIFIED_SEQUENCE'] = maxquant_to_internal(annotation_df['MODIFIED_SEQUENCE'].values)\n",
    "\n",
    "from spectrum_fundamentals.annotation.annotation import annotate_spectra\n",
    "annotation = annotate_spectra(annotation_df)"
   ]
  },
  {
   "cell_type": "code",
   "execution_count": null,
   "metadata": {},
   "outputs": [],
   "source": [
    "annotation"
   ]
  },
  {
   "cell_type": "code",
   "execution_count": null,
   "metadata": {},
   "outputs": [],
   "source": [
    "PROSIT_ALHABET = {\n",
    "    \"A\": 1,\n",
    "    \"C\": 2,\n",
    "    \"D\": 3,\n",
    "    \"E\": 4,\n",
    "    \"F\": 5,\n",
    "    \"G\": 6,\n",
    "    \"H\": 7,\n",
    "    \"I\": 8,\n",
    "    \"K\": 9,\n",
    "    \"L\": 10,\n",
    "    \"M\": 11,\n",
    "    \"N\": 12,\n",
    "    \"P\": 13,\n",
    "    \"Q\": 14,\n",
    "    \"R\": 15,\n",
    "    \"S\": 16,\n",
    "    \"T\": 17,\n",
    "    \"V\": 18,\n",
    "    \"W\": 19,\n",
    "    \"Y\": 20,\n",
    "    \"M(ox)\": 21,\n",
    "}\n",
    "sequence_integer = [[PROSIT_ALHABET[AA] for AA in sequence] for sequence in msms['Sequence']]\n",
    "precursor_charge_onehot = pd.get_dummies(msms['Charge']).values\n",
    "collision_energy_aligned_normed = annotation_df['COLLISION_ENERGY']\n",
    "intensities_raw = annotation['INTENSITIES']"
   ]
  },
  {
   "cell_type": "code",
   "execution_count": null,
   "metadata": {},
   "outputs": [],
   "source": [
    "df = pd.DataFrame(list(zip(sequence_integer, precursor_charge_onehot, collision_energy_aligned_normed, intensities_raw)),\n",
    "                  columns=['sequence_integer', 'precursor_charge_onehot', 'collision_energy', 'intensities_raw'])\n",
    "df"
   ]
  },
  {
   "cell_type": "code",
   "execution_count": 12,
   "metadata": {},
   "outputs": [],
   "source": [
    "from spectrum_fundamentals.mod_string import maxquant_to_internal"
   ]
  }
 ],
 "metadata": {
  "kernelspec": {
   "display_name": "backend2",
   "language": "python",
   "name": "python3"
  },
  "language_info": {
   "codemirror_mode": {
    "name": "ipython",
    "version": 3
   },
   "file_extension": ".py",
   "mimetype": "text/x-python",
   "name": "python",
   "nbconvert_exporter": "python",
   "pygments_lexer": "ipython3",
   "version": "3.8.19"
  }
 },
 "nbformat": 4,
 "nbformat_minor": 2
}
