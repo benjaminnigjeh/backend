{
 "cells": [
  {
   "cell_type": "code",
   "execution_count": 5,
   "metadata": {},
   "outputs": [],
   "source": [
    "import wget\n",
    "url1 = \"https://ftp.pride.ebi.ac.uk/pride/data/archive/2017/02/PXD004732/01625b_GA1-TUM_first_pool_1_01_01-DDA-1h-R2.raw\"\n",
    "url2 = \"https://ftp.pride.ebi.ac.uk/pride/data/archive/2017/02/PXD004732/TUM_first_pool_1_01_01_DDA-1h-R2-tryptic.zip\""
   ]
  },
  {
   "cell_type": "code",
   "execution_count": 6,
   "metadata": {},
   "outputs": [
    {
     "data": {
      "text/plain": [
       "'TUM_first_pool_1_01_01_DDA-1h-R2-tryptic.zip'"
      ]
     },
     "execution_count": 6,
     "metadata": {},
     "output_type": "execute_result"
    }
   ],
   "source": [
    "wget.download(url1)\n",
    "wget.download(url2)"
   ]
  },
  {
   "cell_type": "code",
   "execution_count": 4,
   "metadata": {},
   "outputs": [],
   "source": [
    "from zipfile import ZipFile\n",
    "import pandas as pd\n",
    "with ZipFile(f'TUM_first_pool_1_01_01_DDA-1h-R2-tryptic.zip', 'r') as zip_file:\n",
    "  msms = pd.read_csv(zip_file.open('msms.txt'), sep='\\t')\n",
    "# Current PROSIT pipeline does not accomodate modified peptides, so we remove all of the oxidized peptides\n",
    "msms = msms[msms['Modifications'] == 'Unmodified']"
   ]
  },
  {
   "cell_type": "code",
   "execution_count": 5,
   "metadata": {},
   "outputs": [
    {
     "name": "stdout",
     "output_type": "stream",
     "text": [
      "<bound method NDFrame.head of                                           Raw file  Scan number  Scan index  \\\n",
      "0      01625b_GA1-TUM_first_pool_1_01_01-DDA-1h-R2        19663       17042   \n",
      "1      01625b_GA1-TUM_first_pool_1_01_01-DDA-1h-R2        19664       17043   \n",
      "2      01625b_GA1-TUM_first_pool_1_01_01-DDA-1h-R2        19787       17160   \n",
      "3      01625b_GA1-TUM_first_pool_1_01_01-DDA-1h-R2        19788       17161   \n",
      "4      01625b_GA1-TUM_first_pool_1_01_01-DDA-1h-R2        10463        8187   \n",
      "...                                            ...          ...         ...   \n",
      "13084  01625b_GA1-TUM_first_pool_1_01_01-DDA-1h-R2        38231       34883   \n",
      "13085  01625b_GA1-TUM_first_pool_1_01_01-DDA-1h-R2        38348       34996   \n",
      "13086  01625b_GA1-TUM_first_pool_1_01_01-DDA-1h-R2        38349       34997   \n",
      "13087  01625b_GA1-TUM_first_pool_1_01_01-DDA-1h-R2        38462       35104   \n",
      "13088  01625b_GA1-TUM_first_pool_1_01_01-DDA-1h-R2        38463       35105   \n",
      "\n",
      "           Sequence  Length  Missed cleavages Modifications Modified sequence  \\\n",
      "0           AAAFYVR       7                 0    Unmodified         _AAAFYVR_   \n",
      "1           AAAFYVR       7                 0    Unmodified         _AAAFYVR_   \n",
      "2           AAAFYVR       7                 0    Unmodified         _AAAFYVR_   \n",
      "3           AAAFYVR       7                 0    Unmodified         _AAAFYVR_   \n",
      "4      AAFTECCQAADK      12                 0    Unmodified    _AAFTECCQAADK_   \n",
      "...             ...     ...               ...           ...               ...   \n",
      "13084       YYSILEK       7                 0    Unmodified         _YYSILEK_   \n",
      "13085       YYSILEK       7                 0    Unmodified         _YYSILEK_   \n",
      "13086       YYSILEK       7                 0    Unmodified         _YYSILEK_   \n",
      "13087       YYSILEK       7                 0    Unmodified         _YYSILEK_   \n",
      "13088       YYSILEK       7                 0    Unmodified         _YYSILEK_   \n",
      "\n",
      "      Oxidation (M) Probabilities Oxidation (M) Score Diffs  ...  Reverse  \\\n",
      "0                             NaN                       NaN  ...      NaN   \n",
      "1                             NaN                       NaN  ...      NaN   \n",
      "2                             NaN                       NaN  ...      NaN   \n",
      "3                             NaN                       NaN  ...      NaN   \n",
      "4                             NaN                       NaN  ...      NaN   \n",
      "...                           ...                       ...  ...      ...   \n",
      "13084                         NaN                       NaN  ...      NaN   \n",
      "13085                         NaN                       NaN  ...      NaN   \n",
      "13086                         NaN                       NaN  ...      NaN   \n",
      "13087                         NaN                       NaN  ...      NaN   \n",
      "13088                         NaN                       NaN  ...      NaN   \n",
      "\n",
      "              All scores              All sequences  \\\n",
      "0               124.3238                    AAAFYVR   \n",
      "1               97.59625                    AAAFYVR   \n",
      "2                137.505                    AAAFYVR   \n",
      "3               121.6839                    AAAFYVR   \n",
      "4      100.0219;3.577801  AAFTECCQAADK;ADAAQCCETFAK   \n",
      "...                  ...                        ...   \n",
      "13084   125.814;1.327645            YYSILEK;RPLDVCR   \n",
      "13085  87.7543;0.6903766            YYSILEK;RPLDVCR   \n",
      "13086  74.25504;3.191235            YYSILEK;RPLDVCR   \n",
      "13087  41.42933;2.702613            YYSILEK;RPLDVCR   \n",
      "13088  36.70102;4.734532            YYSILEK;RPLDVCR   \n",
      "\n",
      "              All modified sequences     id Protein group IDs  Peptide ID  \\\n",
      "0                          _AAAFYVR_      0                11           0   \n",
      "1                          _AAAFYVR_      1                11           0   \n",
      "2                          _AAAFYVR_      2                11           0   \n",
      "3                          _AAAFYVR_      3                11           0   \n",
      "4      _AAFTECCQAADK_;_ADAAQCCETFAK_      4                 3           1   \n",
      "...                              ...    ...               ...         ...   \n",
      "13084            _YYSILEK_;_RPLDVCR_  13084                11         948   \n",
      "13085            _YYSILEK_;_RPLDVCR_  13085                11         948   \n",
      "13086            _YYSILEK_;_RPLDVCR_  13086                11         948   \n",
      "13087            _YYSILEK_;_RPLDVCR_  13087                11         948   \n",
      "13088            _YYSILEK_;_RPLDVCR_  13088                11         948   \n",
      "\n",
      "       Mod. peptide ID  Evidence ID  Oxidation (M) site IDs  \n",
      "0                    0            0                     NaN  \n",
      "1                    0            0                     NaN  \n",
      "2                    0            0                     NaN  \n",
      "3                    0            0                     NaN  \n",
      "4                    1            1                     NaN  \n",
      "...                ...          ...                     ...  \n",
      "13084             1024         2825                     NaN  \n",
      "13085             1024         2825                     NaN  \n",
      "13086             1024         2825                     NaN  \n",
      "13087             1024         2825                     NaN  \n",
      "13088             1024         2825                     NaN  \n",
      "\n",
      "[11970 rows x 57 columns]>\n"
     ]
    }
   ],
   "source": [
    "print(msms.head)"
   ]
  },
  {
   "cell_type": "code",
   "execution_count": 6,
   "metadata": {},
   "outputs": [],
   "source": [
    "from fisher_py import RawFile\n",
    "raw = RawFile('D:/backend/01625b_GA1-TUM_first_pool_1_01_01-DDA-1h-R2.raw')"
   ]
  },
  {
   "cell_type": "code",
   "execution_count": 7,
   "metadata": {},
   "outputs": [],
   "source": [
    "from fisher_py import RawFile\n",
    "raw = RawFile('01625b_GA1-TUM_first_pool_1_01_01-DDA-1h-R2.raw')\n",
    "# Get the scan numbers from the msms file and save the scan + info in a dictionary\n",
    "from fisher_py.data.business import Scan\n",
    "import numpy as np\n",
    "scan_mzs = []\n",
    "scan_ints = []\n",
    "scan_mass_analyzers = []\n",
    "scan_collison_energy = []\n",
    "for scan in msms['Scan number']:\n",
    "  raw_scan = Scan.from_file(raw._raw_file_access, scan)\n",
    "  scan_mzs.append(np.array(raw_scan.preferred_masses))\n",
    "  scan_ints.append(np.array(raw_scan.preferred_intensities))\n",
    "  scan_mass_analyzers.append(raw_scan.scan_type.split(' + ')[0])\n",
    "  frag_infos = [f.split(' ')[0] for f in raw_scan.scan_type.split('@')[1:]]\n",
    "  splits = [[i for i, g in enumerate(f) if g.isnumeric()][0] for f in frag_infos]\n",
    "  NCEs = [float(frag[split:]) for split, frag in zip(splits, frag_infos)]\n",
    "  scan_collison_energy.append(NCEs[0])"
   ]
  },
  {
   "cell_type": "code",
   "execution_count": 9,
   "metadata": {},
   "outputs": [],
   "source": [
    "import spectrum_fundamentals\n",
    "annotation_df = pd.DataFrame(msms[['Modified sequence', 'Charge', 'Scan number']].values, columns=['MODIFIED_SEQUENCE', 'PRECURSOR_CHARGE', 'SCAN_NUMBER'])\n",
    "annotation_df['MZ'] = scan_mzs\n",
    "annotation_df['INTENSITIES'] = scan_ints\n",
    "annotation_df['MASS_ANALYZER'] = scan_mass_analyzers\n",
    "annotation_df['COLLISION_ENERGY'] = scan_collison_energy\n",
    "\n",
    "# from spectrum_fundamentals.mode-strings import maxquant_to_internal\n",
    "# annotation_df['MODIFIED_SEQUENCE'] = maxquant_to_internal(annotation_df['MODIFIED_SEQUENCE'].values)\n",
    "\n",
    "# from spectrum_fundamentals.annotation.annotation import annotate_spectra\n",
    "# annotation = annotate_spectra(annotation_df)"
   ]
  },
  {
   "cell_type": "code",
   "execution_count": null,
   "metadata": {},
   "outputs": [],
   "source": [
    "annotation"
   ]
  },
  {
   "cell_type": "code",
   "execution_count": null,
   "metadata": {},
   "outputs": [],
   "source": [
    "PROSIT_ALHABET = {\n",
    "    \"A\": 1,\n",
    "    \"C\": 2,\n",
    "    \"D\": 3,\n",
    "    \"E\": 4,\n",
    "    \"F\": 5,\n",
    "    \"G\": 6,\n",
    "    \"H\": 7,\n",
    "    \"I\": 8,\n",
    "    \"K\": 9,\n",
    "    \"L\": 10,\n",
    "    \"M\": 11,\n",
    "    \"N\": 12,\n",
    "    \"P\": 13,\n",
    "    \"Q\": 14,\n",
    "    \"R\": 15,\n",
    "    \"S\": 16,\n",
    "    \"T\": 17,\n",
    "    \"V\": 18,\n",
    "    \"W\": 19,\n",
    "    \"Y\": 20,\n",
    "    \"M(ox)\": 21,\n",
    "}\n",
    "sequence_integer = [[PROSIT_ALHABET[AA] for AA in sequence] for sequence in msms['Sequence']]\n",
    "precursor_charge_onehot = pd.get_dummies(msms['Charge']).values\n",
    "collision_energy_aligned_normed = annotation_df['COLLISION_ENERGY']\n",
    "intensities_raw = annotation['INTENSITIES']"
   ]
  },
  {
   "cell_type": "code",
   "execution_count": null,
   "metadata": {},
   "outputs": [],
   "source": [
    "df = pd.DataFrame(list(zip(sequence_integer, precursor_charge_onehot, collision_energy_aligned_normed, intensities_raw)),\n",
    "                  columns=['sequence_integer', 'precursor_charge_onehot', 'collision_energy', 'intensities_raw'])\n",
    "df"
   ]
  },
  {
   "cell_type": "code",
   "execution_count": 34,
   "metadata": {},
   "outputs": [
    {
     "ename": "TypeError",
     "evalue": "No method matches given arguments for IRawData.SelectInstrument: (<class 'int'>, <class 'int'>)",
     "output_type": "error",
     "traceback": [
      "\u001b[1;31m---------------------------------------------------------------------------\u001b[0m",
      "\u001b[1;31mPythonException\u001b[0m                           Traceback (most recent call last)",
      "\u001b[1;31mPythonException\u001b[0m: since Python.NET 3.0 int can not be converted to Enum implicitly. Use Enum(int_value)",
      "\nThe above exception was the direct cause of the following exception:\n",
      "\u001b[1;31mArgumentException\u001b[0m                         Traceback (most recent call last)",
      "\u001b[1;31mArgumentException\u001b[0m: since Python.NET 3.0 int can not be converted to Enum implicitly. Use Enum(int_value) in method Void SelectInstrument(ThermoFisher.CommonCore.Data.Business.Device, Int32) ---> Python.Runtime.PythonException: since Python.NET 3.0 int can not be converted to Enum implicitly. Use Enum(int_value)\r\n   --- End of inner exception stack trace ---",
      "\nThe above exception was the direct cause of the following exception:\n",
      "\u001b[1;31mAggregateException\u001b[0m                        Traceback (most recent call last)",
      "\u001b[1;31mAggregateException\u001b[0m: One or more errors occurred. ---> System.ArgumentException: since Python.NET 3.0 int can not be converted to Enum implicitly. Use Enum(int_value) in method Void SelectInstrument(ThermoFisher.CommonCore.Data.Business.Device, Int32) ---> Python.Runtime.PythonException: since Python.NET 3.0 int can not be converted to Enum implicitly. Use Enum(int_value)\r\n   --- End of inner exception stack trace ---\r\n   --- End of inner exception stack trace ---\r\n---> (Inner Exception #0) System.ArgumentException: since Python.NET 3.0 int can not be converted to Enum implicitly. Use Enum(int_value) in method Void SelectInstrument(ThermoFisher.CommonCore.Data.Business.Device, Int32) ---> Python.Runtime.PythonException: since Python.NET 3.0 int can not be converted to Enum implicitly. Use Enum(int_value)\r\n   --- End of inner exception stack trace ---<---\r\n",
      "\nThe above exception was the direct cause of the following exception:\n",
      "\u001b[1;31mTypeError\u001b[0m                                 Traceback (most recent call last)",
      "Cell \u001b[1;32mIn[34], line 5\u001b[0m\n\u001b[0;32m      3\u001b[0m \u001b[38;5;28;01mfrom\u001b[39;00m \u001b[38;5;21;01mfisher_py\u001b[39;00m\u001b[38;5;21;01m.\u001b[39;00m\u001b[38;5;21;01mdata\u001b[39;00m\u001b[38;5;21;01m.\u001b[39;00m\u001b[38;5;21;01mbusiness\u001b[39;00m \u001b[38;5;28;01mimport\u001b[39;00m TraceType\n\u001b[0;32m      4\u001b[0m path \u001b[38;5;241m=\u001b[39m \u001b[38;5;124mr\u001b[39m\u001b[38;5;124m'\u001b[39m\u001b[38;5;124mD:\u001b[39m\u001b[38;5;124m\\\u001b[39m\u001b[38;5;124mbackend\u001b[39m\u001b[38;5;124m\\\u001b[39m\u001b[38;5;124m01625b_GA1-TUM_first_pool_1_01_01-DDA-1h-R2.raw\u001b[39m\u001b[38;5;124m'\u001b[39m\n\u001b[1;32m----> 5\u001b[0m raw_file \u001b[38;5;241m=\u001b[39m \u001b[43mRawFile\u001b[49m\u001b[43m(\u001b[49m\u001b[43mpath\u001b[49m\u001b[38;5;241;43m=\u001b[39;49m\u001b[43mpath\u001b[49m\u001b[43m)\u001b[49m\n\u001b[0;32m      7\u001b[0m target_mass \u001b[38;5;241m=\u001b[39m \u001b[38;5;241m848.36862\u001b[39m\n\u001b[0;32m      8\u001b[0m mass_tolerance_ppm \u001b[38;5;241m=\u001b[39m \u001b[38;5;241m10\u001b[39m\n",
      "File \u001b[1;32mc:\\Users\\benja\\miniconda3\\envs\\backend2\\lib\\site-packages\\fisher_py\\raw_file.py:61\u001b[0m, in \u001b[0;36mRawFile.__init__\u001b[1;34m(self, path)\u001b[0m\n\u001b[0;32m     59\u001b[0m \u001b[38;5;28mself\u001b[39m\u001b[38;5;241m.\u001b[39m_path \u001b[38;5;241m=\u001b[39m path\n\u001b[0;32m     60\u001b[0m \u001b[38;5;28mself\u001b[39m\u001b[38;5;241m.\u001b[39m_raw_file_access \u001b[38;5;241m=\u001b[39m RawFileReaderAdapter\u001b[38;5;241m.\u001b[39mfile_factory(path)\n\u001b[1;32m---> 61\u001b[0m \u001b[38;5;28;43mself\u001b[39;49m\u001b[38;5;241;43m.\u001b[39;49m\u001b[43m_raw_file_access\u001b[49m\u001b[38;5;241;43m.\u001b[39;49m\u001b[43mselect_instrument\u001b[49m\u001b[43m(\u001b[49m\u001b[43mDevice\u001b[49m\u001b[38;5;241;43m.\u001b[39;49m\u001b[43mMS\u001b[49m\u001b[43m,\u001b[49m\u001b[43m \u001b[49m\u001b[38;5;241;43m1\u001b[39;49m\u001b[43m)\u001b[49m\n\u001b[0;32m     63\u001b[0m \u001b[38;5;66;03m# fetch retention times and scan numbers\u001b[39;00m\n\u001b[0;32m     64\u001b[0m scan_numbers, rt \u001b[38;5;241m=\u001b[39m \u001b[38;5;28mself\u001b[39m\u001b[38;5;241m.\u001b[39m_get_scan_numbers_and_retention_times_()\n",
      "File \u001b[1;32mc:\\Users\\benja\\miniconda3\\envs\\backend2\\lib\\site-packages\\fisher_py\\raw_file_reader\\raw_file_access.py:811\u001b[0m, in \u001b[0;36mRawFileAccess.select_instrument\u001b[1;34m(self, instrument_type, instrument_index)\u001b[0m\n\u001b[0;32m    809\u001b[0m \u001b[38;5;28;01massert\u001b[39;00m \u001b[38;5;28mtype\u001b[39m(instrument_type) \u001b[38;5;129;01mis\u001b[39;00m Device\n\u001b[0;32m    810\u001b[0m \u001b[38;5;28;01massert\u001b[39;00m \u001b[38;5;28mtype\u001b[39m(instrument_index) \u001b[38;5;129;01mis\u001b[39;00m \u001b[38;5;28mint\u001b[39m\n\u001b[1;32m--> 811\u001b[0m \u001b[38;5;28;43mself\u001b[39;49m\u001b[38;5;241;43m.\u001b[39;49m\u001b[43m_get_wrapped_object_\u001b[49m\u001b[43m(\u001b[49m\u001b[43m)\u001b[49m\u001b[38;5;241;43m.\u001b[39;49m\u001b[43mSelectInstrument\u001b[49m\u001b[43m(\u001b[49m\u001b[43minstrument_type\u001b[49m\u001b[38;5;241;43m.\u001b[39;49m\u001b[43mvalue\u001b[49m\u001b[43m,\u001b[49m\u001b[43m \u001b[49m\u001b[43minstrument_index\u001b[49m\u001b[43m)\u001b[49m\n",
      "\u001b[1;31mTypeError\u001b[0m: No method matches given arguments for IRawData.SelectInstrument: (<class 'int'>, <class 'int'>)"
     ]
    }
   ],
   "source": [
    "import matplotlib.pyplot as plt\n",
    "from fisher_py import RawFile\n",
    "from fisher_py.data.business import TraceType\n",
    "path = r'D:\\backend\\01625b_GA1-TUM_first_pool_1_01_01-DDA-1h-R2.raw'\n",
    "raw_file = RawFile(path=path)\n",
    "\n",
    "target_mass = 848.36862\n",
    "mass_tolerance_ppm = 10\n",
    "rt, i = raw_file.get_chromatogram(target_mass, mass_tolerance_ppm, TraceType.MassRange)\n",
    "mz, i2, charges, real_rt = raw_file.get_scan_ms1(1)\n",
    "print(real_rt)\n",
    "\n",
    "plt.figure()\n",
    "plt.plot(rt, i)\n",
    "\n",
    "plt.figure()\n",
    "plt.plot(mz, i2)\n",
    "\n",
    "plt.show()"
   ]
  },
  {
   "cell_type": "code",
   "execution_count": null,
   "metadata": {},
   "outputs": [],
   "source": [
    "import pythonnet\n",
    "\n"
   ]
  },
  {
   "cell_type": "code",
   "execution_count": 26,
   "metadata": {},
   "outputs": [],
   "source": [
    "from src.helper import *"
   ]
  },
  {
   "cell_type": "code",
   "execution_count": null,
   "metadata": {},
   "outputs": [],
   "source": [
    "read_scan_information(raw_file= RawFileAccess, first_scan_number=1, last_scan_number=100, output_data=True)"
   ]
  },
  {
   "cell_type": "code",
   "execution_count": 33,
   "metadata": {},
   "outputs": [
    {
     "ename": "TypeError",
     "evalue": "No method matches given arguments for IRawData.SelectInstrument: (<class 'int'>, <class 'int'>)",
     "output_type": "error",
     "traceback": [
      "\u001b[1;31m---------------------------------------------------------------------------\u001b[0m",
      "\u001b[1;31mPythonException\u001b[0m                           Traceback (most recent call last)",
      "\u001b[1;31mPythonException\u001b[0m: since Python.NET 3.0 int can not be converted to Enum implicitly. Use Enum(int_value)",
      "\nThe above exception was the direct cause of the following exception:\n",
      "\u001b[1;31mArgumentException\u001b[0m                         Traceback (most recent call last)",
      "\u001b[1;31mArgumentException\u001b[0m: since Python.NET 3.0 int can not be converted to Enum implicitly. Use Enum(int_value) in method Void SelectInstrument(ThermoFisher.CommonCore.Data.Business.Device, Int32) ---> Python.Runtime.PythonException: since Python.NET 3.0 int can not be converted to Enum implicitly. Use Enum(int_value)\r\n   --- End of inner exception stack trace ---",
      "\nThe above exception was the direct cause of the following exception:\n",
      "\u001b[1;31mAggregateException\u001b[0m                        Traceback (most recent call last)",
      "\u001b[1;31mAggregateException\u001b[0m: One or more errors occurred. ---> System.ArgumentException: since Python.NET 3.0 int can not be converted to Enum implicitly. Use Enum(int_value) in method Void SelectInstrument(ThermoFisher.CommonCore.Data.Business.Device, Int32) ---> Python.Runtime.PythonException: since Python.NET 3.0 int can not be converted to Enum implicitly. Use Enum(int_value)\r\n   --- End of inner exception stack trace ---\r\n   --- End of inner exception stack trace ---\r\n---> (Inner Exception #0) System.ArgumentException: since Python.NET 3.0 int can not be converted to Enum implicitly. Use Enum(int_value) in method Void SelectInstrument(ThermoFisher.CommonCore.Data.Business.Device, Int32) ---> Python.Runtime.PythonException: since Python.NET 3.0 int can not be converted to Enum implicitly. Use Enum(int_value)\r\n   --- End of inner exception stack trace ---<---\r\n",
      "\nThe above exception was the direct cause of the following exception:\n",
      "\u001b[1;31mTypeError\u001b[0m                                 Traceback (most recent call last)",
      "Cell \u001b[1;32mIn[33], line 2\u001b[0m\n\u001b[0;32m      1\u001b[0m path \u001b[38;5;241m=\u001b[39m \u001b[38;5;124mr\u001b[39m\u001b[38;5;124m'\u001b[39m\u001b[38;5;124mD:\u001b[39m\u001b[38;5;124m\\\u001b[39m\u001b[38;5;124mbackend\u001b[39m\u001b[38;5;124m\\\u001b[39m\u001b[38;5;124m01625b_GA1-TUM_first_pool_1_01_01-DDA-1h-R2.raw\u001b[39m\u001b[38;5;124m'\u001b[39m\n\u001b[1;32m----> 2\u001b[0m raw_data \u001b[38;5;241m=\u001b[39m \u001b[43mRawFile\u001b[49m\u001b[43m(\u001b[49m\u001b[43mpath\u001b[49m\u001b[38;5;241;43m=\u001b[39;49m\u001b[43mpath\u001b[49m\u001b[43m)\u001b[49m\n",
      "File \u001b[1;32mc:\\Users\\benja\\miniconda3\\envs\\backend2\\lib\\site-packages\\fisher_py\\raw_file.py:61\u001b[0m, in \u001b[0;36mRawFile.__init__\u001b[1;34m(self, path)\u001b[0m\n\u001b[0;32m     59\u001b[0m \u001b[38;5;28mself\u001b[39m\u001b[38;5;241m.\u001b[39m_path \u001b[38;5;241m=\u001b[39m path\n\u001b[0;32m     60\u001b[0m \u001b[38;5;28mself\u001b[39m\u001b[38;5;241m.\u001b[39m_raw_file_access \u001b[38;5;241m=\u001b[39m RawFileReaderAdapter\u001b[38;5;241m.\u001b[39mfile_factory(path)\n\u001b[1;32m---> 61\u001b[0m \u001b[38;5;28;43mself\u001b[39;49m\u001b[38;5;241;43m.\u001b[39;49m\u001b[43m_raw_file_access\u001b[49m\u001b[38;5;241;43m.\u001b[39;49m\u001b[43mselect_instrument\u001b[49m\u001b[43m(\u001b[49m\u001b[43mDevice\u001b[49m\u001b[38;5;241;43m.\u001b[39;49m\u001b[43mMS\u001b[49m\u001b[43m,\u001b[49m\u001b[43m \u001b[49m\u001b[38;5;241;43m1\u001b[39;49m\u001b[43m)\u001b[49m\n\u001b[0;32m     63\u001b[0m \u001b[38;5;66;03m# fetch retention times and scan numbers\u001b[39;00m\n\u001b[0;32m     64\u001b[0m scan_numbers, rt \u001b[38;5;241m=\u001b[39m \u001b[38;5;28mself\u001b[39m\u001b[38;5;241m.\u001b[39m_get_scan_numbers_and_retention_times_()\n",
      "File \u001b[1;32mc:\\Users\\benja\\miniconda3\\envs\\backend2\\lib\\site-packages\\fisher_py\\raw_file_reader\\raw_file_access.py:811\u001b[0m, in \u001b[0;36mRawFileAccess.select_instrument\u001b[1;34m(self, instrument_type, instrument_index)\u001b[0m\n\u001b[0;32m    809\u001b[0m \u001b[38;5;28;01massert\u001b[39;00m \u001b[38;5;28mtype\u001b[39m(instrument_type) \u001b[38;5;129;01mis\u001b[39;00m Device\n\u001b[0;32m    810\u001b[0m \u001b[38;5;28;01massert\u001b[39;00m \u001b[38;5;28mtype\u001b[39m(instrument_index) \u001b[38;5;129;01mis\u001b[39;00m \u001b[38;5;28mint\u001b[39m\n\u001b[1;32m--> 811\u001b[0m \u001b[38;5;28;43mself\u001b[39;49m\u001b[38;5;241;43m.\u001b[39;49m\u001b[43m_get_wrapped_object_\u001b[49m\u001b[43m(\u001b[49m\u001b[43m)\u001b[49m\u001b[38;5;241;43m.\u001b[39;49m\u001b[43mSelectInstrument\u001b[49m\u001b[43m(\u001b[49m\u001b[43minstrument_type\u001b[49m\u001b[38;5;241;43m.\u001b[39;49m\u001b[43mvalue\u001b[49m\u001b[43m,\u001b[49m\u001b[43m \u001b[49m\u001b[43minstrument_index\u001b[49m\u001b[43m)\u001b[49m\n",
      "\u001b[1;31mTypeError\u001b[0m: No method matches given arguments for IRawData.SelectInstrument: (<class 'int'>, <class 'int'>)"
     ]
    }
   ],
   "source": [
    "path = r'D:\\backend\\01625b_GA1-TUM_first_pool_1_01_01-DDA-1h-R2.raw'\n",
    "raw_data = RawFile(path=path)\n",
    "\n",
    "raw_file.get_instrument_data"
   ]
  }
 ],
 "metadata": {
  "kernelspec": {
   "display_name": "backend2",
   "language": "python",
   "name": "python3"
  },
  "language_info": {
   "codemirror_mode": {
    "name": "ipython",
    "version": 3
   },
   "file_extension": ".py",
   "mimetype": "text/x-python",
   "name": "python",
   "nbconvert_exporter": "python",
   "pygments_lexer": "ipython3",
   "version": "3.10.12"
  }
 },
 "nbformat": 4,
 "nbformat_minor": 2
}
